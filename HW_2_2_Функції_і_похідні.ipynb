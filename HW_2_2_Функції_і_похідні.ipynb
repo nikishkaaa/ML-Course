{
  "nbformat": 4,
  "nbformat_minor": 0,
  "metadata": {
    "colab": {
      "provenance": [],
      "include_colab_link": true
    },
    "kernelspec": {
      "name": "python3",
      "display_name": "Python 3"
    },
    "language_info": {
      "name": "python"
    }
  },
  "cells": [
    {
      "cell_type": "markdown",
      "metadata": {
        "id": "view-in-github",
        "colab_type": "text"
      },
      "source": [
        "<a href=\"https://colab.research.google.com/github/nikishkaaa/ML-Course/blob/main/HW_2_2_%D0%A4%D1%83%D0%BD%D0%BA%D1%86%D1%96%D1%97_%D1%96_%D0%BF%D0%BE%D1%85%D1%96%D0%B4%D0%BD%D1%96.ipynb\" target=\"_parent\"><img src=\"https://colab.research.google.com/assets/colab-badge.svg\" alt=\"Open In Colab\"/></a>"
      ]
    },
    {
      "cell_type": "markdown",
      "source": [
        "### Домашні завдання на відпрацювання поняття функції та її похідної\n",
        "\n",
        "1. Задана функція залежності оцінки від кількості годин, витрачених на навчання: $ f(x) = 10x - 5 $.\n",
        "  1. З допомогою Python обчисліть похідну цієї функції.\n",
        "  2. Використовуйте бібліотеку `matplotlib` для побудови графіків функції та її похідної в діапазоні значень від 0 до 10 годин. Проаналізуйте, як зміна кількості годин вивчення впливає на оцінку.\n",
        "\n"
      ],
      "metadata": {
        "id": "96Jt4SJFgNMT"
      }
    },
    {
      "cell_type": "code",
      "source": [
        "import sympy as sp\n",
        "import matplotlib.pyplot as plt\n",
        "import numpy as np"
      ],
      "metadata": {
        "id": "R15CgY_gt63W"
      },
      "execution_count": 4,
      "outputs": []
    },
    {
      "cell_type": "code",
      "source": [
        "x = sp.symbols('x')\n",
        "f = 10*x -5\n",
        "deriv = sp.diff(f, x)\n",
        "deriv"
      ],
      "metadata": {
        "id": "6JYTF6hqwlio",
        "outputId": "3ec9dfe6-f2dd-4637-dbe3-148bd13da498",
        "colab": {
          "base_uri": "https://localhost:8080/",
          "height": 37
        }
      },
      "execution_count": 3,
      "outputs": [
        {
          "output_type": "execute_result",
          "data": {
            "text/plain": [
              "10"
            ],
            "text/latex": "$\\displaystyle 10$"
          },
          "metadata": {},
          "execution_count": 3
        }
      ]
    },
    {
      "cell_type": "code",
      "source": [
        "xs = np.linspace(0,10)\n",
        "xs\n",
        "\n"
      ],
      "metadata": {
        "id": "V0k2eQzWxWwc",
        "outputId": "18ed1ba1-5358-4d5e-dd43-1813cd5d4ddb",
        "colab": {
          "base_uri": "https://localhost:8080/"
        }
      },
      "execution_count": 8,
      "outputs": [
        {
          "output_type": "execute_result",
          "data": {
            "text/plain": [
              "array([ 0.        ,  0.20408163,  0.40816327,  0.6122449 ,  0.81632653,\n",
              "        1.02040816,  1.2244898 ,  1.42857143,  1.63265306,  1.83673469,\n",
              "        2.04081633,  2.24489796,  2.44897959,  2.65306122,  2.85714286,\n",
              "        3.06122449,  3.26530612,  3.46938776,  3.67346939,  3.87755102,\n",
              "        4.08163265,  4.28571429,  4.48979592,  4.69387755,  4.89795918,\n",
              "        5.10204082,  5.30612245,  5.51020408,  5.71428571,  5.91836735,\n",
              "        6.12244898,  6.32653061,  6.53061224,  6.73469388,  6.93877551,\n",
              "        7.14285714,  7.34693878,  7.55102041,  7.75510204,  7.95918367,\n",
              "        8.16326531,  8.36734694,  8.57142857,  8.7755102 ,  8.97959184,\n",
              "        9.18367347,  9.3877551 ,  9.59183673,  9.79591837, 10.        ])"
            ]
          },
          "metadata": {},
          "execution_count": 8
        }
      ]
    },
    {
      "cell_type": "markdown",
      "source": [
        "2. Використовуючи Python і `SymPy`, обчисліть похідні для функцій $ f(x) = \\sin(x) $ та $ f(x) = \\ln(x) $. Зобразіть ці функції та їхні похідні за допомогою `matplotlib`.\n",
        "\n"
      ],
      "metadata": {
        "id": "9KlJeYO4fNJq"
      }
    },
    {
      "cell_type": "code",
      "source": [],
      "metadata": {
        "id": "yR4tg0zDuAAQ"
      },
      "execution_count": null,
      "outputs": []
    },
    {
      "cell_type": "markdown",
      "source": [
        "\n",
        "3. Загальні витрати компанії від обсягу виробництва задані функцією $ f(x) = x^2 - 5x + 1 $, де $ x $ — кількість вироблених одиниць. Обчисліть похідну цієї функції з допомогою SymPy та візуалізуйте значення функції і її похідної на відрізку від 0 до 100."
      ],
      "metadata": {
        "id": "A-BVEn9PgkN8"
      }
    },
    {
      "cell_type": "code",
      "source": [],
      "metadata": {
        "id": "Dx4g-2gDuA4g"
      },
      "execution_count": null,
      "outputs": []
    }
  ]
}