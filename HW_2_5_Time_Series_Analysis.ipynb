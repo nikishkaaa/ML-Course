{
  "nbformat": 4,
  "nbformat_minor": 0,
  "metadata": {
    "colab": {
      "provenance": [],
      "include_colab_link": true
    },
    "kernelspec": {
      "name": "python3",
      "display_name": "Python 3"
    },
    "language_info": {
      "name": "python"
    }
  },
  "cells": [
    {
      "cell_type": "markdown",
      "metadata": {
        "id": "view-in-github",
        "colab_type": "text"
      },
      "source": [
        "<a href=\"https://colab.research.google.com/github/nikishkaaa/ML-Course/blob/main/HW_2_5_Time_Series_Analysis.ipynb\" target=\"_parent\"><img src=\"https://colab.research.google.com/assets/colab-badge.svg\" alt=\"Open In Colab\"/></a>"
      ]
    },
    {
      "cell_type": "markdown",
      "source": [
        "У цьому ДЗ ми попрактикуємось моделювати часові ряди на даних з [Store Item Demand Forecasting Challenge](https://www.kaggle.com/competitions/demand-forecasting-kernels-only/overview). Ми будемо працювати лише з тренувальними даними цього змагання і задача у нас буде дещо змінена. Фокус буде на пошуці найкращої моделі, експериментах і використанні функціоналу `darts`.\n",
        "\n",
        "Якщо якісно попрацювати в цьому завданні - це буде чудовий приклад проєкту для вашого портфоліо: \"спрогнозував(-ла) поденні продажі на 1 міс для 50 товарів в 10 магазинах\" звучить вражаюче! Але ми в рамках ДЗ для оптимізації часу сконцентруємось на моделюванні продажів одного товару в одному магазині.\n",
        "\n",
        "**Задача**\n",
        "\n",
        "Вам надано дані про продажі товарів у магазинах за 5 років. Хочемо навчитись передачати продажі в наступному місяці поденно кожного з 50 товарів у кожному з 10 магазинів. Відповідно будемо проводити експерименти, аби знайти найкращу модель для цього.\n",
        "\n",
        "На відміну від змагання, ми будемо використовувати метрику МАРЕ (Mean Absolute Percentage Error) замість SMAPE (Symmetric Mean Absolute Percentage Error). Проте, ви також можете розрахувати SMAPE і подати свої результати через late submission на Kaggle."
      ],
      "metadata": {
        "id": "JowGjuLdN81P"
      }
    },
    {
      "cell_type": "markdown",
      "source": [
        "1. Завантажуємо дані в Pandas.\n",
        "\n",
        "  1. Завантажте дані з файлу `train.csv.zip` за допомогою бібліотеки Pandas.\n",
        "  2. Перетворіть колонку `date` на формат `datetime`.\n",
        "  3. Встановіть колонку `date` як індекс для датафрейму.\n",
        "  4. Виведіть перші 10 рядків отриманого датафрейму та інформацію про датафрейм."
      ],
      "metadata": {
        "id": "TOrwetV9VhQ8"
      }
    },
    {
      "cell_type": "code",
      "source": [
        "import pandas as pd\n",
        "import numpy as np"
      ],
      "metadata": {
        "id": "Ea1Nbt0BLG4Z"
      },
      "execution_count": null,
      "outputs": []
    },
    {
      "cell_type": "markdown",
      "source": [
        "  2. Давайте трошки зрозуміємо дані. У нас 10 магазинів і 50 айтемів в кожному. Хочемо зрозуміти, чи відрізняється динаміка по кожному айтему в магазинах. Як би ви це візуалізували? Побудуйте 3 графіка, які вам допоможуть. Можна використати будь-який інструмент: matplotlib, seaborn, plotly.\n",
        "\n",
        "  Напишіть висновок з побудованих вами візуалізацій.\n",
        "  \n",
        "    **Підказка**: я б спробувала вивести середнє значення і довірчий інтервал (який включає весь діапазон значень з різних магазинів) для динаміки кожного айтема, або принаймні для декількох айтемів, аби зрозуміти тенденцію.\n",
        "\n"
      ],
      "metadata": {
        "id": "gSw_jvd2WCvb"
      }
    },
    {
      "cell_type": "code",
      "source": [],
      "metadata": {
        "id": "kX7mcywSLJlU"
      },
      "execution_count": null,
      "outputs": []
    },
    {
      "cell_type": "markdown",
      "source": [
        "3. **Для початку проаналізуємо лише один ряд, а далі зможемо зациклити тренування моделей.**\n",
        "  \n",
        "  Виберіть підмножину даних, що відповідає продажам товару з `item == 1` у магазині з `store == 1`.\n",
        "\n",
        "  Зробіть декомпозицію цього рядку за адитивною моделлю на тренд, сезонність і залишки з бібліотекою `statsmodels`.\n",
        "\n",
        "  Зробіть висновки з отриманих візуалізацій. Чи щось би могло вам допомогти ліпше зрозуміти ці візуалізації? (з точки зору обробки даних)"
      ],
      "metadata": {
        "id": "qEKWxGKlVr2T"
      }
    },
    {
      "cell_type": "code",
      "source": [],
      "metadata": {
        "id": "vfJQeSm2LMUa"
      },
      "execution_count": null,
      "outputs": []
    },
    {
      "cell_type": "markdown",
      "source": [
        "4. Зі створеної підможени даних в попередньому пункті створіть обʼєкт класу `TimeSeries` в `darts` лише для колонки `sales`."
      ],
      "metadata": {
        "id": "r8GwI9USb69x"
      }
    },
    {
      "cell_type": "code",
      "source": [],
      "metadata": {
        "id": "V88Hh4R4LNIz"
      },
      "execution_count": null,
      "outputs": []
    },
    {
      "cell_type": "markdown",
      "source": [
        "5. Використовуючи метод `series.split_before` розбийте дані на тренування і валідацію так, аби валідація починалась з `2017-10-01` включно.\n",
        "\n",
        "  Візуалізуйте на одному графіку тренувальну і валідаційну частину як було показано в лекції."
      ],
      "metadata": {
        "id": "fdazrckIaUJt"
      }
    },
    {
      "cell_type": "code",
      "source": [],
      "metadata": {
        "id": "hSdLhW7uLNwi"
      },
      "execution_count": null,
      "outputs": []
    },
    {
      "cell_type": "markdown",
      "source": [
        "6. Побудуйте часткову автокореляційну фукнцію для цього нашого ряду в `series`. Напишіть висновки - які лаги є важливими для прогнозування?"
      ],
      "metadata": {
        "id": "FCDyi3lNa1_3"
      }
    },
    {
      "cell_type": "code",
      "source": [],
      "metadata": {
        "id": "DkxY5VpYLOSM"
      },
      "execution_count": null,
      "outputs": []
    },
    {
      "cell_type": "markdown",
      "source": [
        "7. Виявіть сезональність тренувального ряду використовуючи фукнкцію `check_seasonality` з `darts`."
      ],
      "metadata": {
        "id": "rlGfs2gnbXFn"
      }
    },
    {
      "cell_type": "code",
      "source": [],
      "metadata": {
        "id": "DG67fnxkLO1d"
      },
      "execution_count": null,
      "outputs": []
    },
    {
      "cell_type": "markdown",
      "source": [
        "8. Побудуйте наївну модель NaiveSeasonal + NaieDrift для прогнозування даних. Кількість кроків для прогнозування визначіть зі свого аналізу в попередніх пунктах. Візуалізайте передбачення проти справжніх даних так, аби було видно якість передбачень. Зробіть висновок про модель. Вона точна?\n",
        "\n",
        "  Якщо у вас є ідеї, як поліпшити якість передбачення саме наївними моделями - реалізуйте їх в цьому пункті :)"
      ],
      "metadata": {
        "id": "vTAzPIh-bmrj"
      }
    },
    {
      "cell_type": "code",
      "source": [],
      "metadata": {
        "id": "0psfyEYPLPgv"
      },
      "execution_count": null,
      "outputs": []
    },
    {
      "cell_type": "markdown",
      "source": [
        "9. Обчисліть помилку прогнозу на валідації наївною моделлю з mape. Далі для всіх моделей необхідно обчислювати помилку прогнозу на валідації."
      ],
      "metadata": {
        "id": "bBMrGdU3eoDN"
      }
    },
    {
      "cell_type": "code",
      "source": [],
      "metadata": {
        "id": "I4Wcos1aLRiX"
      },
      "execution_count": null,
      "outputs": []
    },
    {
      "cell_type": "markdown",
      "source": [
        "10. Натренуйте XBGModel з `darts` для передбачення наших даних. Можна додавати всі додаткові ознаки, які вважаєте за потрібне, наприклад, ознаки з дати. Зробіть висновок про якість моделі."
      ],
      "metadata": {
        "id": "sKHQPJyvfZMj"
      }
    },
    {
      "cell_type": "code",
      "source": [],
      "metadata": {
        "id": "bhpacFVlLTow"
      },
      "execution_count": null,
      "outputs": []
    },
    {
      "cell_type": "markdown",
      "source": [
        "11. Натренуйте модель ExponentialSmoothing та зробіть висновок про її якість."
      ],
      "metadata": {
        "id": "ED9yK-oJgyer"
      }
    },
    {
      "cell_type": "code",
      "source": [],
      "metadata": {
        "id": "Z28N-uehLUlO"
      },
      "execution_count": null,
      "outputs": []
    },
    {
      "cell_type": "markdown",
      "source": [
        "12. Натренуйте модель ARIMA, параметри оберіть самостійно.Зробіть висновок про її якість."
      ],
      "metadata": {
        "id": "iMAxcHd9Dug2"
      }
    },
    {
      "cell_type": "code",
      "source": [],
      "metadata": {
        "id": "pdmoaUwbLVF1"
      },
      "execution_count": null,
      "outputs": []
    },
    {
      "cell_type": "markdown",
      "source": [
        "13. Знайдіть оптимальні параметри моделі ARIMA з допомогою AutoARIMA моделі. Виконайте пошук параметрів, виведіть, які паарметри виявились оптимальними і обчисліть якість моделі. Чи поліпшилась якість порівняно з попереднім експериментом?"
      ],
      "metadata": {
        "id": "nD-DN96ZD3GX"
      }
    },
    {
      "cell_type": "code",
      "source": [],
      "metadata": {
        "id": "9JdklGCPLW7u"
      },
      "execution_count": null,
      "outputs": []
    },
    {
      "cell_type": "markdown",
      "source": [
        "14. Натренуйте модель Prophet та зробіть висновок про її якість."
      ],
      "metadata": {
        "id": "KY9HuSugFEy9"
      }
    },
    {
      "cell_type": "code",
      "source": [],
      "metadata": {
        "id": "QaA8jUkeLX-q"
      },
      "execution_count": null,
      "outputs": []
    },
    {
      "cell_type": "markdown",
      "source": [
        "15. Натренуйте модель `RNNModel` та зробіть висновок про її якість."
      ],
      "metadata": {
        "id": "aR4VhvxHFVU_"
      }
    },
    {
      "cell_type": "code",
      "source": [],
      "metadata": {
        "id": "BLof1tTgLY75"
      },
      "execution_count": null,
      "outputs": []
    },
    {
      "cell_type": "markdown",
      "source": [
        "16. Виконайте бектест для тої моделі, яка виявилась найкращою у вашому дослідженні на періоді 1 рік з передбаченнями на 1 місяць щоразу. Візуалізуйте як поводилась модель протягом бектесту, яка була точність?"
      ],
      "metadata": {
        "id": "oYylvI5BGazj"
      }
    },
    {
      "cell_type": "code",
      "source": [],
      "metadata": {
        "id": "VzAaV0-qKu7F"
      },
      "execution_count": null,
      "outputs": []
    },
    {
      "cell_type": "markdown",
      "source": [
        "Всю варіантивність не вгадали, але виглядає непогано!"
      ],
      "metadata": {
        "id": "0ai_ekpeJBAK"
      }
    },
    {
      "cell_type": "markdown",
      "source": [
        "17. На цьому етапі ви зрозуміли, як моделювати продажі одного айтему з 1 магазину. Як би ви підійшли до задачі прогнозування продажів в наступному місяці для кожного з 50 айтемів в кожному з 10 магазинів? Опишіть загальний підхід\n",
        "- яку модель ви б використали\n",
        "- скільки моделей ви б тренували\n",
        "- обгрунтуйте свій вибір."
      ],
      "metadata": {
        "id": "IteMLFv3JvMj"
      }
    },
    {
      "cell_type": "markdown",
      "source": [],
      "metadata": {
        "id": "9cmQS6dLLbQA"
      }
    }
  ]
}