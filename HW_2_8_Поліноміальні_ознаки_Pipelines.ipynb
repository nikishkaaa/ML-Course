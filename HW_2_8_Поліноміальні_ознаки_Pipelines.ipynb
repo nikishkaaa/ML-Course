{
  "nbformat": 4,
  "nbformat_minor": 0,
  "metadata": {
    "colab": {
      "provenance": [],
      "include_colab_link": true
    },
    "kernelspec": {
      "name": "python3",
      "display_name": "Python 3"
    },
    "language_info": {
      "name": "python"
    }
  },
  "cells": [
    {
      "cell_type": "markdown",
      "metadata": {
        "id": "view-in-github",
        "colab_type": "text"
      },
      "source": [
        "<a href=\"https://colab.research.google.com/github/nikishkaaa/ML-Course/blob/main/HW_2_8_%D0%9F%D0%BE%D0%BB%D1%96%D0%BD%D0%BE%D0%BC%D1%96%D0%B0%D0%BB%D1%8C%D0%BD%D1%96_%D0%BE%D0%B7%D0%BD%D0%B0%D0%BA%D0%B8_Pipelines.ipynb\" target=\"_parent\"><img src=\"https://colab.research.google.com/assets/colab-badge.svg\" alt=\"Open In Colab\"/></a>"
      ]
    },
    {
      "cell_type": "markdown",
      "source": [
        "В цьому домашньому завданні ми проведемо додаткові експерименти для рішення задачі бінарної класифікації і створимо ваш новий submission на змагання на Kaggle.\n",
        "\n",
        "-----------\n",
        "\n",
        "\n",
        "**Завдання 0**. Завантажте дані `train.csv`, `test.csv`, `sample_submission.csv` зі змагання на Kaggle [\"Bank Customer Churn Prediction (DLU Course)\"](https://www.kaggle.com/t/7c080c5d8ec64364a93cf4e8f880b6a0). Для завантаження потрібно долучитись до змагання (натиснути кнопку \"Join\").\n",
        "\n",
        "**Завдання 1**. **Збираємо весь код з попереднього ДЗ в одному місці.** В лекційному ноутбуці `Логістична регресія з ScikitLearn. Повна ML задача.ipynb` ми познайомились з поняттям пайплайнів, а також я показала, як компактно виглядає рішення МЛ задачі, якщо ми зберемо весь код разом.\n",
        "\n",
        "Оскільки ми далі будемо робити експерименти, які включають ті самі етапи попередньої обробки, але інше моделювання - буде зручно мати весь код компактно і під рукою. Тому зараз ми займемось збором коду до купи :) Після цього завдання для подальших експериментів ви можете перенести частини розвʼязку взагалі в окремий `.py` файл, аби було зручно імпортувати функції.\n",
        "\n",
        "Зі свого рішення в попередньому домашньому завданні (`Логістична регресія з scikit learn.ipynb`) зберіть усі кроки розвʼязку задачі разом з використанням `sklearn.Pipeline` за прикладом з лекції.\n",
        "\n",
        "Ваш код нижче має містити\n",
        "1. Читання даних з файлу (поза пайплайном).\n",
        "2. Розбиття на тренувальний і валідаційний набори, де валідаційний містить 20% даних (поза пайплайном).\n",
        "3. Виділення категоріальних і числових колонок (поза пайплайном).\n",
        "4. Підготовку категоріальних і числових колонок (частина пайплайну). В прикладі в лекції ми оформлювали обробку числових і категоріальних колонок в окремі трансформери `numeric_transformer`, `categorical_cols`. Рекоемндую зробити саме так, так потім зручніше вносити зміни :)\n",
        "5. Тренування лог регресії (частина пайплайну).\n",
        "6. Запуск пайплайну на тренування на трен. даних (поза пайплайном).\n",
        "7. Запуск пайплайну на передбачення на трен і вал. даних і вимір метрик якості ROC-AUC + вивдення Confusion Matrix (поза пайплайном).\n",
        "8. Збереження моделі в формат joblib (поза пайплайном).\n",
        "\n",
        "Ви це все вже зробили в попереднтьому ДЗ! Тож, тут просто заадча все зібрати разом.\n",
        "\n",
        "Нижче я додала підказки, що покроково ви маєте зробити. Якщо ви почуваєтесь впевнено, можете видалити ці підказки і реалізувати все самостійно, або ж - просто заповнити пропуски.\n",
        "\n",
        "Завдання оцінюється в 10 балів. Головний результат - аби код в фіналі був робочий. Бо за не робочий нам гроші ніхто не заплатить :)"
      ],
      "metadata": {
        "id": "gJ2A6t3mdEed"
      }
    },
    {
      "cell_type": "code",
      "source": [
        "!pip install opendatasets --upgrade --quiet"
      ],
      "metadata": {
        "id": "YuZFZlm52B6W"
      },
      "execution_count": 13,
      "outputs": []
    },
    {
      "cell_type": "code",
      "source": [
        "import numpy as np\n",
        "import pandas as pd\n",
        "import os\n",
        "from sklearn.model_selection import train_test_split\n",
        "from sklearn.preprocessing import MinMaxScaler\n",
        "from sklearn.preprocessing import OneHotEncoder\n",
        "import matplotlib.pyplot as plt\n",
        "import opendatasets as od\n",
        "from sklearn.pipeline import Pipeline\n",
        "from sklearn.linear_model import  LogisticRegression\n",
        "from sklearn.compose import ColumnTransformer\n",
        "import seaborn as sns\n",
        "from sklearn.metrics import confusion_matrix\n",
        "from sklearn.metrics import f1_score\n",
        "from sklearn.metrics import roc_curve, auc\n",
        "import joblib\n",
        "from sklearn.preprocessing import PolynomialFeatures\n",
        "from sklearn.linear_model import LinearRegression\n",
        "from sklearn.metrics import mean_squared_error\n",
        "from sklearn.preprocessing import StandardScaler\n",
        "from sklearn.linear_model import Ridge, Lasso, ElasticNet"
      ],
      "metadata": {
        "id": "LwoV4a7f1U5a"
      },
      "execution_count": 76,
      "outputs": []
    },
    {
      "cell_type": "code",
      "source": [
        "dataset_url = 'https://www.kaggle.com/competitions/bank-customer-churn-prediction-dlu/data'"
      ],
      "metadata": {
        "id": "Lfyks8oR1e-r"
      },
      "execution_count": 18,
      "outputs": []
    },
    {
      "cell_type": "code",
      "source": [
        "od.download(dataset_url)"
      ],
      "metadata": {
        "id": "2HqZ4Dbj1zdk",
        "outputId": "234299b6-d068-4a99-8fb6-e6dc6f390ca6",
        "colab": {
          "base_uri": "https://localhost:8080/"
        }
      },
      "execution_count": 19,
      "outputs": [
        {
          "output_type": "stream",
          "name": "stdout",
          "text": [
            "Please provide your Kaggle credentials to download this dataset. Learn more: http://bit.ly/kaggle-creds\n",
            "Your Kaggle username: darianikishkina\n",
            "Your Kaggle Key: ··········\n",
            "Downloading bank-customer-churn-prediction-dlu.zip to ./bank-customer-churn-prediction-dlu\n"
          ]
        },
        {
          "output_type": "stream",
          "name": "stderr",
          "text": [
            "100%|██████████| 637k/637k [00:00<00:00, 913kB/s]"
          ]
        },
        {
          "output_type": "stream",
          "name": "stdout",
          "text": [
            "\n",
            "Extracting archive ./bank-customer-churn-prediction-dlu/bank-customer-churn-prediction-dlu.zip to ./bank-customer-churn-prediction-dlu\n"
          ]
        },
        {
          "output_type": "stream",
          "name": "stderr",
          "text": [
            "\n"
          ]
        }
      ]
    },
    {
      "cell_type": "code",
      "source": [
        "data_dir = './bank-customer-churn-prediction-dlu'\n",
        "os.listdir(data_dir)"
      ],
      "metadata": {
        "id": "y04A-BJm2d8k",
        "outputId": "99b3ac84-c43b-40cd-9b04-5020bb8d132c",
        "colab": {
          "base_uri": "https://localhost:8080/"
        }
      },
      "execution_count": 23,
      "outputs": [
        {
          "output_type": "execute_result",
          "data": {
            "text/plain": [
              "['sample_submission.csv', 'train.csv', 'test.csv']"
            ]
          },
          "metadata": {},
          "execution_count": 23
        }
      ]
    },
    {
      "cell_type": "code",
      "source": [
        "train_df = pd.read_csv('bank-customer-churn-prediction-dlu/train.csv', index_col=0)\n",
        "\n",
        "train_df, val_df = train_test_split(train_df, test_size=0.2, random_state=42, stratify=train_df['Exited'])\n",
        "\n",
        "# Створюємо трен. і вал. набори\n",
        "input_cols = list(train_df.columns)[1:-1]\n",
        "target_col = 'Exited'\n",
        "\n",
        "train_inputs = train_df[input_cols].copy()\n",
        "train_targets = train_df[target_col].copy()\n",
        "val_inputs = val_df[input_cols].copy()\n",
        "val_targets = val_df[target_col].copy()\n",
        "\n",
        "# Створюємо трансформери для числових і категоріальних колонок\n",
        "numeric_transformer = Pipeline(steps=[\n",
        "    ('scaler', MinMaxScaler(feature_range=(0, 1)))\n",
        "])\n",
        "\n",
        "categorical_transformer = Pipeline(steps=[\n",
        "    ('onehot', OneHotEncoder(sparse_output=False, handle_unknown='ignore'))\n",
        "])\n",
        "\n",
        "numeric_cols = [\n",
        " 'Age',\n",
        " 'Balance',\n",
        " 'CreditScore',\n",
        " 'IsActiveMember',\n",
        " 'Tenure',\n",
        " 'EstimatedSalary']\n",
        "categorical_cols = ['Geography', 'Gender','NumOfProducts']\n",
        "\n",
        "\n",
        "# Комбінуємо трансформери для різних типів колонок в один препроцесор\n",
        "preprocessor = ColumnTransformer(\n",
        "    transformers=[\n",
        "        ('num', numeric_transformer, numeric_cols),\n",
        "        ('cat', categorical_transformer, categorical_cols)\n",
        "    ])\n",
        "\n",
        "# Стоврюємо пайплайн, який спочатку запускає препроцесинг, потім тренуєм модель\n",
        "model_pipeline = Pipeline(steps=[\n",
        "    ('preprocessor', preprocessor),\n",
        "    ('classifier', LogisticRegression(solver='liblinear'))\n",
        "])\n",
        "\n",
        "# Тренуємо пайплайн\n",
        "model_pipeline.fit(train_inputs, train_targets)\n",
        "\n",
        "# Функція, щоб передбачати і рахувати метрики\n",
        "def predict_and_plot(model_pipeline, inputs, targets, name=''):\n",
        "    preds = model_pipeline.predict_proba(inputs)[:, 1]\n",
        "    fpr, tpr, thresholds = roc_curve(targets, preds)\n",
        "    roc_auc = auc(fpr, tpr)\n",
        "    print(f\"Area under ROC score on {name} dataset: {roc_auc:.2f}%\")\n",
        "    preds_for_matrix = model_pipeline.predict(inputs)\n",
        "    confusion_matrix_ = confusion_matrix(targets, preds_for_matrix)\n",
        "    plt.figure()\n",
        "    sns.heatmap(confusion_matrix_, fmt='d', annot=True, cmap='Blues')\n",
        "    plt.xlabel('Prediction')\n",
        "    plt.ylabel('Target')\n",
        "    plt.title('{} Confusion Matrix'.format(name))\n",
        "    plt.show()\n",
        "    return preds\n",
        "\n",
        "# Оцінюємо модель на трен і вал даних\n",
        "train_preds = predict_and_plot(model_pipeline, train_inputs, train_targets )\n",
        "val_preds = predict_and_plot(model_pipeline, val_inputs, val_targets)"
      ],
      "metadata": {
        "id": "iiCaR5yYPzOb",
        "outputId": "0909a76f-8bea-4783-d19f-daae99ececd7",
        "colab": {
          "base_uri": "https://localhost:8080/",
          "height": 961
        }
      },
      "execution_count": 43,
      "outputs": [
        {
          "output_type": "stream",
          "name": "stdout",
          "text": [
            "Area under ROC score on  dataset: 0.93%\n"
          ]
        },
        {
          "output_type": "display_data",
          "data": {
            "text/plain": [
              "<Figure size 640x480 with 2 Axes>"
            ],
            "image/png": "[encoded data removed]"
          },
          "metadata": {}
        },
        {
          "output_type": "stream",
          "name": "stdout",
          "text": [
            "Area under ROC score on  dataset: 0.92%\n"
          ]
        },
        {
          "output_type": "display_data",
          "data": {
            "text/plain": [
              "<Figure size 640x480 with 2 Axes>"
            ],
            "image/png": "[encoded data removed]"
          },
          "metadata": {}
        }
      ]
    },
    {
      "cell_type": "markdown",
      "source": [
        "**Завдання 2**. Такс, у нас з вами є вже готовий пайплайн. Давайте проведемо нові експерименти.\n",
        "\n",
        "  Додайте в попередню обробку числових колонок генерацію polinomal features до степені 2 включно. Для цього створіть новий препроцесор і створіть новий пайплайн.\n",
        "\n",
        "  Запустіть пайплайн на тренування і виведіть метрики для тренувального і валідаційного набору. Напишіть, як вам модель? Чи спостерігається в цій моделі overfit чи underfit? Чи ця модель добре генералізує?"
      ],
      "metadata": {
        "id": "PXrc2NCa5lAK"
      }
    },
    {
      "cell_type": "code",
      "source": [
        "numeric_transformer_2 = Pipeline(steps = [\n",
        "    ('polinomial',  PolynomialFeatures(degree=2, include_bias=False)),\n",
        "    ('scaler', MinMaxScaler(feature_range=(0, 1)))\n",
        "])\n",
        "\n",
        "categorical_transformer_2 = Pipeline(steps=[\n",
        "    ('onehot', OneHotEncoder(sparse_output=False, handle_unknown='ignore'))\n",
        "])\n",
        "preprocessor_2 = ColumnTransformer(\n",
        "    transformers=[\n",
        "        ('num', numeric_transformer_2, numeric_cols),\n",
        "        ('cat', categorical_transformer_2, categorical_cols)\n",
        "    ])\n",
        "\n",
        "polinomial_pipeline = Pipeline(steps = [\n",
        "    ('preprocessor', preprocessor_2),\n",
        "    ('classifier', LogisticRegression(solver='liblinear'))\n",
        "\n",
        "])\n",
        "\n",
        "polinomial_pipeline.fit(train_inputs, train_targets)\n",
        "\n",
        "\n",
        "# Оцінюємо модель на трен і вал даних\n",
        "train_preds = predict_and_plot(polinomial_pipeline, train_inputs, train_targets )\n",
        "val_preds = predict_and_plot(polinomial_pipeline, val_inputs, val_targets)"
      ],
      "metadata": {
        "id": "TjcmWMTOOjJ1",
        "outputId": "cf17f10c-fe7a-4c4a-85ee-14d16264eae0",
        "colab": {
          "base_uri": "https://localhost:8080/",
          "height": 961
        }
      },
      "execution_count": 45,
      "outputs": [
        {
          "output_type": "stream",
          "name": "stdout",
          "text": [
            "Area under ROC score on  dataset: 0.93%\n"
          ]
        },
        {
          "output_type": "display_data",
          "data": {
            "text/plain": [
              "<Figure size 640x480 with 2 Axes>"
            ],
            "image/png": "[encoded data removed]"
          },
          "metadata": {}
        },
        {
          "output_type": "stream",
          "name": "stdout",
          "text": [
            "Area under ROC score on  dataset: 0.92%\n"
          ]
        },
        {
          "output_type": "display_data",
          "data": {
            "text/plain": [
              "<Figure size 640x480 with 2 Axes>"
            ],
            "image/png": "[encoded data removed]"
          },
          "metadata": {}
        }
      ]
    },
    {
      "cell_type": "markdown",
      "source": [
        "Висновок: Overfit + underfit не спостерігаються, так як значення метрики на трейн і вал наборах майже не відрізняються. Модель працює добре"
      ],
      "metadata": {
        "id": "GKiB0Zj9VKCc"
      }
    },
    {
      "cell_type": "markdown",
      "source": [
        "**Завдання 3**. Тепер давайте створимо ще новий пайплайн, тільки тепер поліноміальні ознаки згенеруємо до степені 4. Зробіть висновок про якість моделі. Якщо вам подобається резульат якоїсь з моделей в цьому ДЗ - рекомендую зробити submission в змаганні."
      ],
      "metadata": {
        "id": "tkmEmHaP8Pen"
      }
    },
    {
      "cell_type": "code",
      "source": [
        "numeric_transformer_4 = Pipeline(steps = [\n",
        "    ('polinomial',  PolynomialFeatures(degree=4, include_bias=False)),\n",
        "    ('scaler', MinMaxScaler(feature_range=(0, 1)))\n",
        "])\n",
        "\n",
        "categorical_transformer_4 = Pipeline(steps=[\n",
        "    ('onehot', OneHotEncoder(sparse_output=False, handle_unknown='ignore'))\n",
        "])\n",
        "preprocessor_2 = ColumnTransformer(\n",
        "    transformers=[\n",
        "        ('num', numeric_transformer_4, numeric_cols),\n",
        "        ('cat', categorical_transformer_4, categorical_cols)\n",
        "    ])\n",
        "\n",
        "polinomial_pipeline_4 = Pipeline(steps = [\n",
        "    ('preprocessor', preprocessor_2),\n",
        "    ('classifier', LogisticRegression(solver='liblinear'))\n",
        "\n",
        "])\n",
        "\n",
        "polinomial_pipeline_4.fit(train_inputs, train_targets)\n",
        "\n",
        "\n",
        "# Оцінюємо модель на трен і вал даних\n",
        "train_preds = predict_and_plot(polinomial_pipeline_4, train_inputs, train_targets )\n",
        "val_preds = predict_and_plot(polinomial_pipeline_4, val_inputs, val_targets)"
      ],
      "metadata": {
        "id": "OsT-MDWuOkDY",
        "outputId": "c0d58dce-e85a-46b5-b159-74f01d166db1",
        "colab": {
          "base_uri": "https://localhost:8080/",
          "height": 961
        }
      },
      "execution_count": 46,
      "outputs": [
        {
          "output_type": "stream",
          "name": "stdout",
          "text": [
            "Area under ROC score on  dataset: 0.93%\n"
          ]
        },
        {
          "output_type": "display_data",
          "data": {
            "text/plain": [
              "<Figure size 640x480 with 2 Axes>"
            ],
            "image/png": "[encoded data removed]"
          },
          "metadata": {}
        },
        {
          "output_type": "stream",
          "name": "stdout",
          "text": [
            "Area under ROC score on  dataset: 0.93%\n"
          ]
        },
        {
          "output_type": "display_data",
          "data": {
            "text/plain": [
              "<Figure size 640x480 with 2 Axes>"
            ],
            "image/png": "[encoded data removed]"
          },
          "metadata": {}
        }
      ]
    },
    {
      "cell_type": "code",
      "source": [
        "import warnings\n",
        "warnings.filterwarnings(\"ignore\")\n",
        "def predict_test(model_pipeline, inputs):\n",
        "    preds = model_pipeline.predict_proba(inputs)[:, 1]\n",
        "    return preds\n",
        "\n",
        "\n",
        "test_raw_df = pd.read_csv('bank-customer-churn-prediction-dlu/test.csv')\n",
        "test_raw_df['Exited'] = predict_test(model_pipeline, test_raw_df)\n",
        "sample_submission = pd.read_csv('bank-customer-churn-prediction-dlu/sample_submission.csv')\n",
        "merged_df = sample_submission.merge(test_raw_df, on='id', how='left')\n",
        "merged_df['Exited'] = merged_df['Exited_y']\n",
        "merged_df = merged_df[['id', 'Exited']]"
      ],
      "metadata": {
        "id": "DRW_qjdoaoyr"
      },
      "execution_count": 58,
      "outputs": []
    },
    {
      "cell_type": "code",
      "source": [
        "merged_df.to_csv('submission_log_reg4.csv', index=False)"
      ],
      "metadata": {
        "id": "K9dvwhgzbpal"
      },
      "execution_count": 60,
      "outputs": []
    },
    {
      "cell_type": "markdown",
      "source": [
        "Висновок: модель з поліноміальнимі ознаками 4 степеня краще перформить для валідаційного набору даних. Overfit/underfit не спостерігаються"
      ],
      "metadata": {
        "id": "iWYROPCHVs4w"
      }
    },
    {
      "cell_type": "markdown",
      "source": [
        "**Завдання 4. Перенавчання і регуляризація**.\n",
        "\n",
        "  Скачайте набір даних `regression_data.csv`. Звичайте набір даних з `regression_data.csv`, розбийте на train і test (в тест 20%) і натренуйте модель лінійної регресії з масштабуванням числових ознак і поліноміальними ознаками до степені **5 включно**.\n",
        "\n",
        "  Виміряйте якість прогностичної моделі і зробіть висновок, чи модель хороша, чи вона добре генералізує?\n"
      ],
      "metadata": {
        "id": "ozN2ONZGCBS6"
      }
    },
    {
      "cell_type": "code",
      "source": [
        "regression_data = pd.read_csv('/content/regression_data.csv')\n",
        "regression_data.head(3)"
      ],
      "metadata": {
        "id": "xbl0jQ3WOlgn",
        "outputId": "6a05f1fc-dba5-4573-91af-87cebd57f01a",
        "colab": {
          "base_uri": "https://localhost:8080/",
          "height": 142
        }
      },
      "execution_count": 63,
      "outputs": [
        {
          "output_type": "execute_result",
          "data": {
            "text/plain": [
              "   feature_1  feature_2  feature_3  feature_4  feature_5     target\n",
              "0  -0.190339  -1.382800  -0.875618   0.538910  -1.037246  28.938854\n",
              "1  -0.321386  -0.563725   0.412931  -0.147057  -0.825497  -7.664581\n",
              "2   2.122156  -1.519370   1.032465  -1.260884   0.917862 -63.845482"
            ],
            "text/html": [
              "\n",
              "  <div id=\"df-2d0b3ead-f29a-4ff0-8ac9-e933e877839f\" class=\"colab-df-container\">\n",
              "    <div>\n",
              "<style scoped>\n",
              "    .dataframe tbody tr th:only-of-type {\n",
              "        vertical-align: middle;\n",
              "    }\n",
              "\n",
              "    .dataframe tbody tr th {\n",
              "        vertical-align: top;\n",
              "    }\n",
              "\n",
              "    .dataframe thead th {\n",
              "        text-align: right;\n",
              "    }\n",
              "</style>\n",
              "<table border=\"1\" class=\"dataframe\">\n",
              "  <thead>\n",
              "    <tr style=\"text-align: right;\">\n",
              "      <th></th>\n",
              "      <th>feature_1</th>\n",
              "      <th>feature_2</th>\n",
              "      <th>feature_3</th>\n",
              "      <th>feature_4</th>\n",
              "      <th>feature_5</th>\n",
              "      <th>target</th>\n",
              "    </tr>\n",
              "  </thead>\n",
              "  <tbody>\n",
              "    <tr>\n",
              "      <th>0</th>\n",
              "      <td>-0.190339</td>\n",
              "      <td>-1.382800</td>\n",
              "      <td>-0.875618</td>\n",
              "      <td>0.538910</td>\n",
              "      <td>-1.037246</td>\n",
              "      <td>28.938854</td>\n",
              "    </tr>\n",
              "    <tr>\n",
              "      <th>1</th>\n",
              "      <td>-0.321386</td>\n",
              "      <td>-0.563725</td>\n",
              "      <td>0.412931</td>\n",
              "      <td>-0.147057</td>\n",
              "      <td>-0.825497</td>\n",
              "      <td>-7.664581</td>\n",
              "    </tr>\n",
              "    <tr>\n",
              "      <th>2</th>\n",
              "      <td>2.122156</td>\n",
              "      <td>-1.519370</td>\n",
              "      <td>1.032465</td>\n",
              "      <td>-1.260884</td>\n",
              "      <td>0.917862</td>\n",
              "      <td>-63.845482</td>\n",
              "    </tr>\n",
              "  </tbody>\n",
              "</table>\n",
              "</div>\n",
              "    <div class=\"colab-df-buttons\">\n",
              "\n",
              "  <div class=\"colab-df-container\">\n",
              "    <button class=\"colab-df-convert\" onclick=\"convertToInteractive('df-2d0b3ead-f29a-4ff0-8ac9-e933e877839f')\"\n",
              "            title=\"Convert this dataframe to an interactive table.\"\n",
              "            style=\"display:none;\">\n",
              "\n",
              "  <svg xmlns=\"http://www.w3.org/2000/svg\" height=\"24px\" viewBox=\"0 -960 960 960\">\n",
              "    <path d=\"M120-120v-720h720v720H120Zm60-500h600v-160H180v160Zm220 220h160v-160H400v160Zm0 220h160v-160H400v160ZM180-400h160v-160H180v160Zm440 0h160v-160H620v160ZM180-180h160v-160H180v160Zm440 0h160v-160H620v160Z\"/>\n",
              "  </svg>\n",
              "    </button>\n",
              "\n",
              "  <style>\n",
              "    .colab-df-container {\n",
              "      display:flex;\n",
              "      gap: 12px;\n",
              "    }\n",
              "\n",
              "    .colab-df-convert {\n",
              "      background-color: #E8F0FE;\n",
              "      border: none;\n",
              "      border-radius: 50%;\n",
              "      cursor: pointer;\n",
              "      display: none;\n",
              "      fill: #1967D2;\n",
              "      height: 32px;\n",
              "      padding: 0 0 0 0;\n",
              "      width: 32px;\n",
              "    }\n",
              "\n",
              "    .colab-df-convert:hover {\n",
              "      background-color: #E2EBFA;\n",
              "      box-shadow: 0px 1px 2px rgba(60, 64, 67, 0.3), 0px 1px 3px 1px rgba(60, 64, 67, 0.15);\n",
              "      fill: #174EA6;\n",
              "    }\n",
              "\n",
              "    .colab-df-buttons div {\n",
              "      margin-bottom: 4px;\n",
              "    }\n",
              "\n",
              "    [theme=dark] .colab-df-convert {\n",
              "      background-color: #3B4455;\n",
              "      fill: #D2E3FC;\n",
              "    }\n",
              "\n",
              "    [theme=dark] .colab-df-convert:hover {\n",
              "      background-color: #434B5C;\n",
              "      box-shadow: 0px 1px 3px 1px rgba(0, 0, 0, 0.15);\n",
              "      filter: drop-shadow(0px 1px 2px rgba(0, 0, 0, 0.3));\n",
              "      fill: #FFFFFF;\n",
              "    }\n",
              "  </style>\n",
              "\n",
              "    <script>\n",
              "      const buttonEl =\n",
              "        document.querySelector('#df-2d0b3ead-f29a-4ff0-8ac9-e933e877839f button.colab-df-convert');\n",
              "      buttonEl.style.display =\n",
              "        google.colab.kernel.accessAllowed ? 'block' : 'none';\n",
              "\n",
              "      async function convertToInteractive(key) {\n",
              "        const element = document.querySelector('#df-2d0b3ead-f29a-4ff0-8ac9-e933e877839f');\n",
              "        const dataTable =\n",
              "          await google.colab.kernel.invokeFunction('convertToInteractive',\n",
              "                                                    [key], {});\n",
              "        if (!dataTable) return;\n",
              "\n",
              "        const docLinkHtml = 'Like what you see? Visit the ' +\n",
              "          '<a target=\"_blank\" href=https://colab.research.google.com/notebooks/data_table.ipynb>data table notebook</a>'\n",
              "          + ' to learn more about interactive tables.';\n",
              "        element.innerHTML = '';\n",
              "        dataTable['output_type'] = 'display_data';\n",
              "        await google.colab.output.renderOutput(dataTable, element);\n",
              "        const docLink = document.createElement('div');\n",
              "        docLink.innerHTML = docLinkHtml;\n",
              "        element.appendChild(docLink);\n",
              "      }\n",
              "    </script>\n",
              "  </div>\n",
              "\n",
              "\n",
              "<div id=\"df-27cb4d76-47bf-4931-a168-5ac0247c8a3b\">\n",
              "  <button class=\"colab-df-quickchart\" onclick=\"quickchart('df-27cb4d76-47bf-4931-a168-5ac0247c8a3b')\"\n",
              "            title=\"Suggest charts\"\n",
              "            style=\"display:none;\">\n",
              "\n",
              "<svg xmlns=\"http://www.w3.org/2000/svg\" height=\"24px\"viewBox=\"0 0 24 24\"\n",
              "     width=\"24px\">\n",
              "    <g>\n",
              "        <path d=\"M19 3H5c-1.1 0-2 .9-2 2v14c0 1.1.9 2 2 2h14c1.1 0 2-.9 2-2V5c0-1.1-.9-2-2-2zM9 17H7v-7h2v7zm4 0h-2V7h2v10zm4 0h-2v-4h2v4z\"/>\n",
              "    </g>\n",
              "</svg>\n",
              "  </button>\n",
              "\n",
              "<style>\n",
              "  .colab-df-quickchart {\n",
              "      --bg-color: #E8F0FE;\n",
              "      --fill-color: #1967D2;\n",
              "      --hover-bg-color: #E2EBFA;\n",
              "      --hover-fill-color: #174EA6;\n",
              "      --disabled-fill-color: #AAA;\n",
              "      --disabled-bg-color: #DDD;\n",
              "  }\n",
              "\n",
              "  [theme=dark] .colab-df-quickchart {\n",
              "      --bg-color: #3B4455;\n",
              "      --fill-color: #D2E3FC;\n",
              "      --hover-bg-color: #434B5C;\n",
              "      --hover-fill-color: #FFFFFF;\n",
              "      --disabled-bg-color: #3B4455;\n",
              "      --disabled-fill-color: #666;\n",
              "  }\n",
              "\n",
              "  .colab-df-quickchart {\n",
              "    background-color: var(--bg-color);\n",
              "    border: none;\n",
              "    border-radius: 50%;\n",
              "    cursor: pointer;\n",
              "    display: none;\n",
              "    fill: var(--fill-color);\n",
              "    height: 32px;\n",
              "    padding: 0;\n",
              "    width: 32px;\n",
              "  }\n",
              "\n",
              "  .colab-df-quickchart:hover {\n",
              "    background-color: var(--hover-bg-color);\n",
              "    box-shadow: 0 1px 2px rgba(60, 64, 67, 0.3), 0 1px 3px 1px rgba(60, 64, 67, 0.15);\n",
              "    fill: var(--button-hover-fill-color);\n",
              "  }\n",
              "\n",
              "  .colab-df-quickchart-complete:disabled,\n",
              "  .colab-df-quickchart-complete:disabled:hover {\n",
              "    background-color: var(--disabled-bg-color);\n",
              "    fill: var(--disabled-fill-color);\n",
              "    box-shadow: none;\n",
              "  }\n",
              "\n",
              "  .colab-df-spinner {\n",
              "    border: 2px solid var(--fill-color);\n",
              "    border-color: transparent;\n",
              "    border-bottom-color: var(--fill-color);\n",
              "    animation:\n",
              "      spin 1s steps(1) infinite;\n",
              "  }\n",
              "\n",
              "  @keyframes spin {\n",
              "    0% {\n",
              "      border-color: transparent;\n",
              "      border-bottom-color: var(--fill-color);\n",
              "      border-left-color: var(--fill-color);\n",
              "    }\n",
              "    20% {\n",
              "      border-color: transparent;\n",
              "      border-left-color: var(--fill-color);\n",
              "      border-top-color: var(--fill-color);\n",
              "    }\n",
              "    30% {\n",
              "      border-color: transparent;\n",
              "      border-left-color: var(--fill-color);\n",
              "      border-top-color: var(--fill-color);\n",
              "      border-right-color: var(--fill-color);\n",
              "    }\n",
              "    40% {\n",
              "      border-color: transparent;\n",
              "      border-right-color: var(--fill-color);\n",
              "      border-top-color: var(--fill-color);\n",
              "    }\n",
              "    60% {\n",
              "      border-color: transparent;\n",
              "      border-right-color: var(--fill-color);\n",
              "    }\n",
              "    80% {\n",
              "      border-color: transparent;\n",
              "      border-right-color: var(--fill-color);\n",
              "      border-bottom-color: var(--fill-color);\n",
              "    }\n",
              "    90% {\n",
              "      border-color: transparent;\n",
              "      border-bottom-color: var(--fill-color);\n",
              "    }\n",
              "  }\n",
              "</style>\n",
              "\n",
              "  <script>\n",
              "    async function quickchart(key) {\n",
              "      const quickchartButtonEl =\n",
              "        document.querySelector('#' + key + ' button');\n",
              "      quickchartButtonEl.disabled = true;  // To prevent multiple clicks.\n",
              "      quickchartButtonEl.classList.add('colab-df-spinner');\n",
              "      try {\n",
              "        const charts = await google.colab.kernel.invokeFunction(\n",
              "            'suggestCharts', [key], {});\n",
              "      } catch (error) {\n",
              "        console.error('Error during call to suggestCharts:', error);\n",
              "      }\n",
              "      quickchartButtonEl.classList.remove('colab-df-spinner');\n",
              "      quickchartButtonEl.classList.add('colab-df-quickchart-complete');\n",
              "    }\n",
              "    (() => {\n",
              "      let quickchartButtonEl =\n",
              "        document.querySelector('#df-27cb4d76-47bf-4931-a168-5ac0247c8a3b button');\n",
              "      quickchartButtonEl.style.display =\n",
              "        google.colab.kernel.accessAllowed ? 'block' : 'none';\n",
              "    })();\n",
              "  </script>\n",
              "</div>\n",
              "    </div>\n",
              "  </div>\n"
            ],
            "application/vnd.google.colaboratory.intrinsic+json": {
              "type": "dataframe",
              "variable_name": "regression_data",
              "summary": "{\n  \"name\": \"regression_data\",\n  \"rows\": 129,\n  \"fields\": [\n    {\n      \"column\": \"feature_1\",\n      \"properties\": {\n        \"dtype\": \"number\",\n        \"std\": 0.9412144270191439,\n        \"min\": -3.241267340069073,\n        \"max\": 2.122156197012633,\n        \"num_unique_values\": 129,\n        \"samples\": [\n          -1.6074832345612275,\n          -0.1580078985789894,\n          -0.0660797986473165\n        ],\n        \"semantic_type\": \"\",\n        \"description\": \"\"\n      }\n    },\n    {\n      \"column\": \"feature_2\",\n      \"properties\": {\n        \"dtype\": \"number\",\n        \"std\": 1.0658870534133857,\n        \"min\": -2.6197451040897444,\n        \"max\": 3.852731490654721,\n        \"num_unique_values\": 129,\n        \"samples\": [\n          0.2598827942484235,\n          -1.0121043752601675,\n          -0.6518361078021592\n        ],\n        \"semantic_type\": \"\",\n        \"description\": \"\"\n      }\n    },\n    {\n      \"column\": \"feature_3\",\n      \"properties\": {\n        \"dtype\": \"number\",\n        \"std\": 0.9785571926549229,\n        \"min\": -1.913280244657798,\n        \"max\": 3.0788808084552377,\n        \"num_unique_values\": 129,\n        \"samples\": [\n          0.1846338585323042,\n          -0.42688106994742,\n          -1.211016199762457\n        ],\n        \"semantic_type\": \"\",\n        \"description\": \"\"\n      }\n    },\n    {\n      \"column\": \"feature_4\",\n      \"properties\": {\n        \"dtype\": \"number\",\n        \"std\": 0.9105881535819239,\n        \"min\": -2.211135309007885,\n        \"max\": 2.3146585666735087,\n        \"num_unique_values\": 129,\n        \"samples\": [\n          0.2274599346041294,\n          -1.6924646297148194,\n          0.6385924587773739\n        ],\n        \"semantic_type\": \"\",\n        \"description\": \"\"\n      }\n    },\n    {\n      \"column\": \"feature_5\",\n      \"properties\": {\n        \"dtype\": \"number\",\n        \"std\": 1.004498068611803,\n        \"min\": -2.301921164735585,\n        \"max\": 2.075400798645439,\n        \"num_unique_values\": 129,\n        \"samples\": [\n          1.307142754282428,\n          1.5295503194606137,\n          -1.66152006226896\n        ],\n        \"semantic_type\": \"\",\n        \"description\": \"\"\n      }\n    },\n    {\n      \"column\": \"target\",\n      \"properties\": {\n        \"dtype\": \"number\",\n        \"std\": 45.46662135515644,\n        \"min\": -111.75381023526477,\n        \"max\": 115.12590740098972,\n        \"num_unique_values\": 129,\n        \"samples\": [\n          11.86363486054443,\n          -84.2273771262452,\n          31.16662131112943\n        ],\n        \"semantic_type\": \"\",\n        \"description\": \"\"\n      }\n    }\n  ]\n}"
            }
          },
          "metadata": {},
          "execution_count": 63
        }
      ]
    },
    {
      "cell_type": "code",
      "source": [
        "X = regression_data.drop(['target'], axis=1)\n",
        "y = regression_data['target']\n",
        "X_train, X_test, y_train, y_test = train_test_split(X, y, test_size=0.2, random_state=42)"
      ],
      "metadata": {
        "id": "6OqdsJKhc0_s"
      },
      "execution_count": 68,
      "outputs": []
    },
    {
      "cell_type": "code",
      "source": [
        "pipeline = Pipeline([\n",
        "    ('scaler', StandardScaler()),\n",
        "    ('polynomial', PolynomialFeatures(degree=5, include_bias=False)),\n",
        "    ('classifier', LinearRegression())\n",
        "])\n",
        "\n",
        "# Тренуємо пайплайн\n",
        "pipeline.fit(X_train, y_train)\n",
        "\n",
        "y_pred_train = pipeline.predict(X_train)\n",
        "y_pred_test = pipeline.predict(X_test)\n",
        "print('Train RMSE: ', mean_squared_error(y_train, y_pred_train, squared=False))\n",
        "print('Test RMSE: ', mean_squared_error(y_test, y_pred_test, squared=False))"
      ],
      "metadata": {
        "id": "9oWSL3_AdRgH",
        "outputId": "2e796747-47f4-431c-edc0-e1d3f28383d8",
        "colab": {
          "base_uri": "https://localhost:8080/"
        }
      },
      "execution_count": 71,
      "outputs": [
        {
          "output_type": "stream",
          "name": "stdout",
          "text": [
            "Train RMSE:  7.080107256942845e-13\n",
            "Test RMSE:  35.62805277364301\n"
          ]
        }
      ]
    },
    {
      "cell_type": "code",
      "source": [
        "y_train.mean(), y_train.std()"
      ],
      "metadata": {
        "id": "E0MUc335eH3o",
        "outputId": "2e397060-cae3-4d02-df52-048c0cdb5f2d",
        "colab": {
          "base_uri": "https://localhost:8080/"
        }
      },
      "execution_count": 74,
      "outputs": [
        {
          "output_type": "execute_result",
          "data": {
            "text/plain": [
              "(-6.450753928428644, 44.35003659161175)"
            ]
          },
          "metadata": {},
          "execution_count": 74
        }
      ]
    },
    {
      "cell_type": "markdown",
      "source": [
        "Висновок: RMSE менше ніж стандартне відхілення, але при цьому різниця між RMSE для тренувального і тестового набору сильно відрізняються, отже модель перенавчилась"
      ],
      "metadata": {
        "id": "aXc54mnveEDF"
      }
    },
    {
      "cell_type": "markdown",
      "source": [
        "**Завдання 5**. Натренуйте моделі Lasso(), Ridge(), ElasaticNet() на цих даних (з поліном ознаками до степені 20 включно), порівняйте якість з тою, яка була отримана з лінійною регресією. Яка модель найкраще генералізує і чому на ваш погляд (можливо треба буде для відповіді зробити додатковий аналіз ознак)?"
      ],
      "metadata": {
        "id": "JNUt-Q6UHkn7"
      }
    },
    {
      "cell_type": "code",
      "source": [
        "models = [\n",
        "    Lasso(),\n",
        "    Ridge(),\n",
        "    ElasticNet(),\n",
        "    ElasticNet(alpha = 2)\n",
        "]\n",
        "\n",
        "poly_features = PolynomialFeatures(degree=20)\n",
        "X_train_poly = poly_features.fit_transform(X_train)\n",
        "X_test_poly = poly_features.transform(X_test)\n",
        "\n",
        "\n",
        "for model in models:\n",
        "  model.fit(X_train_poly, y_train)\n",
        "  y_train_pred = model.predict(X_train_poly)\n",
        "  y_test_pred = model.predict(X_test_poly)\n",
        "  train_metrics = mean_squared_error(y_train, y_train_pred, squared=False).round(6)\n",
        "  test_metrics = mean_squared_error(y_test, y_test_pred, squared=False).round(6)\n",
        "  print(model, ' ', 'train RMSE= ', train_metrics, ' test RMSE = ', test_metrics)"
      ],
      "metadata": {
        "id": "y93ItPYdOnpE",
        "outputId": "2babff94-dad3-41d3-fbb4-be04c1811d2c",
        "colab": {
          "base_uri": "https://localhost:8080/"
        }
      },
      "execution_count": 82,
      "outputs": [
        {
          "output_type": "stream",
          "name": "stdout",
          "text": [
            "Lasso()   train RMSE=  2.313505  test RMSE =  68.318791\n",
            "Ridge()   train RMSE=  32.582352  test RMSE =  9034.946659\n",
            "ElasticNet()   train RMSE=  10.159852  test RMSE =  1526.820921\n",
            "ElasticNet(alpha=2)   train RMSE=  12.894555  test RMSE =  2183.776416\n"
          ]
        }
      ]
    },
    {
      "cell_type": "markdown",
      "source": [
        "Висновок: жодна з моделей не генералізує, у всіх присутнє перенавчання.\n",
        "Однією з причин перенавчання може бути завелика к-ть ознак, отже проведемо експеремент і зменшимо поліном з 20 ознак до 2"
      ],
      "metadata": {
        "id": "FqfxZMpCg8Mw"
      }
    },
    {
      "cell_type": "code",
      "source": [
        "poly_features = PolynomialFeatures(degree=2)\n",
        "X_train_poly = poly_features.fit_transform(X_train)\n",
        "X_test_poly = poly_features.transform(X_test)\n",
        "\n",
        "\n",
        "for model in models:\n",
        "  model.fit(X_train_poly, y_train)\n",
        "  y_train_pred = model.predict(X_train_poly)\n",
        "  y_test_pred = model.predict(X_test_poly)\n",
        "  train_metrics = mean_squared_error(y_train, y_train_pred, squared=False).round(6)\n",
        "  test_metrics = mean_squared_error(y_test, y_test_pred, squared=False).round(6)\n",
        "  print(model, ' ', 'train RMSE= ', train_metrics, ' test RMSE = ', test_metrics)"
      ],
      "metadata": {
        "id": "TvMbV7ephzzS",
        "outputId": "fe31a89f-24e2-4806-8a80-46fc3646e6f6",
        "colab": {
          "base_uri": "https://localhost:8080/"
        }
      },
      "execution_count": 85,
      "outputs": [
        {
          "output_type": "stream",
          "name": "stdout",
          "text": [
            "Lasso()   train RMSE=  1.571223  test RMSE =  1.512621\n",
            "Ridge()   train RMSE=  1.170678  test RMSE =  1.2341\n",
            "ElasticNet()   train RMSE=  17.394886  test RMSE =  20.761708\n",
            "ElasticNet(alpha=2)   train RMSE=  24.882126  test RMSE =  29.268378\n"
          ]
        }
      ]
    },
    {
      "cell_type": "markdown",
      "source": [
        "Отже, після зменшення к-ті ознак модель працює добре, відсутнє перенавчання. Найкраща модель - Lasso\n"
      ],
      "metadata": {
        "id": "-gJWFqvPiAUi"
      }
    }
  ]
}