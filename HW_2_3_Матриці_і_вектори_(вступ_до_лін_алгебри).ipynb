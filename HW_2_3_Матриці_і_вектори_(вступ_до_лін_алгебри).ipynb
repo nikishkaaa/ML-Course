{
  "nbformat": 4,
  "nbformat_minor": 0,
  "metadata": {
    "colab": {
      "provenance": [],
      "include_colab_link": true
    },
    "kernelspec": {
      "name": "python3",
      "display_name": "Python 3"
    },
    "language_info": {
      "name": "python"
    }
  },
  "cells": [
    {
      "cell_type": "markdown",
      "metadata": {
        "id": "view-in-github",
        "colab_type": "text"
      },
      "source": [
        "<a href=\"https://colab.research.google.com/github/nikishkaaa/ML-Course/blob/main/HW_2_3_%D0%9C%D0%B0%D1%82%D1%80%D0%B8%D1%86%D1%96_%D1%96_%D0%B2%D0%B5%D0%BA%D1%82%D0%BE%D1%80%D0%B8_(%D0%B2%D1%81%D1%82%D1%83%D0%BF_%D0%B4%D0%BE_%D0%BB%D1%96%D0%BD_%D0%B0%D0%BB%D0%B3%D0%B5%D0%B1%D1%80%D0%B8).ipynb\" target=\"_parent\"><img src=\"https://colab.research.google.com/assets/colab-badge.svg\" alt=\"Open In Colab\"/></a>"
      ]
    },
    {
      "cell_type": "markdown",
      "source": [
        "### Завдання 1: Створення матриць та векторів\n",
        "1. Створіть `numpy` вектор `vector` розмірністю 10 з випадковими дійсними значеннями в діапазоні від 0 до 1. Можна скористатись двома альтернативними варіантами:\n",
        "  1. Генерація випадкових чисел з модулем [`random.uniform`](https://docs.python.org/3/library/random.html).\n",
        "  2. Створення вектора з допомогою метода `numpy` [np.random.rand](https://numpy.org/doc/stable/reference/random/generated/numpy.random.rand.html)\n",
        "\n",
        "2. Створіть матрицю `matrix` типу `numpy.array` розмірності 3x3 з наступними значеннями\n",
        "\n",
        "  $$\n",
        "  matrix = \\begin{bmatrix}\n",
        "  11 & 14 & 17 \\\\\n",
        "  20 & 23 & 26 \\\\\n",
        "  29 & 32 & 35\n",
        "  \\end{bmatrix}\n",
        "  $$\n",
        "\n",
        "  будь-яким відомими Вам способом.\n",
        "\n",
        "Виведіть на екран вектор і матрицю, а також їх розміри.\n"
      ],
      "metadata": {
        "id": "efug1V4CM0lT"
      }
    },
    {
      "cell_type": "code",
      "source": [
        "import numpy as np\n",
        "import pandas as pd"
      ],
      "metadata": {
        "id": "jxA_lG2_VIMe"
      },
      "execution_count": 1,
      "outputs": []
    },
    {
      "cell_type": "code",
      "source": [
        "vector = np.random.rand(10,)\n",
        "vector"
      ],
      "metadata": {
        "colab": {
          "base_uri": "https://localhost:8080/"
        },
        "id": "BALXMH8fO7Yl",
        "outputId": "42280c77-a247-4c35-8cb4-e60c9e3d5853"
      },
      "execution_count": 4,
      "outputs": [
        {
          "output_type": "execute_result",
          "data": {
            "text/plain": [
              "array([0.95315392, 0.36262713, 0.62910659, 0.45646684, 0.53342782,\n",
              "       0.27799079, 0.92566486, 0.37551667, 0.36818761, 0.26152771])"
            ]
          },
          "metadata": {},
          "execution_count": 4
        }
      ]
    },
    {
      "cell_type": "code",
      "source": [
        "vector.shape"
      ],
      "metadata": {
        "colab": {
          "base_uri": "https://localhost:8080/"
        },
        "id": "qukXkKDfPmea",
        "outputId": "06789d47-1ad5-40a8-bbd2-ff1da4d52360"
      },
      "execution_count": 7,
      "outputs": [
        {
          "output_type": "execute_result",
          "data": {
            "text/plain": [
              "(10,)"
            ]
          },
          "metadata": {},
          "execution_count": 7
        }
      ]
    },
    {
      "cell_type": "code",
      "source": [
        "matrix = np.array([[11, 14, 17],\n",
        "          [20, 23, 26],\n",
        "          [29, 32, 35]])\n",
        "matrix"
      ],
      "metadata": {
        "colab": {
          "base_uri": "https://localhost:8080/"
        },
        "id": "FIINBmGvPWcM",
        "outputId": "dad37b1c-088e-4bf4-fed3-a1ec83fea6c2"
      },
      "execution_count": 8,
      "outputs": [
        {
          "output_type": "execute_result",
          "data": {
            "text/plain": [
              "array([[11, 14, 17],\n",
              "       [20, 23, 26],\n",
              "       [29, 32, 35]])"
            ]
          },
          "metadata": {},
          "execution_count": 8
        }
      ]
    },
    {
      "cell_type": "code",
      "source": [
        "matrix.shape"
      ],
      "metadata": {
        "colab": {
          "base_uri": "https://localhost:8080/"
        },
        "id": "mAp754apPyeP",
        "outputId": "02bb1b4b-bcc3-4bcd-9562-7f4ef6726af1"
      },
      "execution_count": 9,
      "outputs": [
        {
          "output_type": "execute_result",
          "data": {
            "text/plain": [
              "(3, 3)"
            ]
          },
          "metadata": {},
          "execution_count": 9
        }
      ]
    },
    {
      "cell_type": "markdown",
      "source": [
        "\n",
        "### Завдання 2: Операції над векторами та матрицями\n",
        "Виконайте кожну з зазначених операцій над зазначеними оʼєктами і виведіть результат на екран:\n",
        "1. Додайте до кожного значення вектора `vector` число 10 і округліть кожне значення до 2 знаків після коми без використання циклів.\n",
        "2. Помножте кожен елемент матриці з першого завдання на 2 без використання циклів.\n",
        "3. Створіть новий вектор, який містить квадрат кожного `vector` без циклів.\n"
      ],
      "metadata": {
        "id": "TSJ1P4OuOVe2"
      }
    },
    {
      "cell_type": "code",
      "source": [
        "vector = np.round(vector +10, 2)\n",
        "vector"
      ],
      "metadata": {
        "id": "nAAojtyUVJXN",
        "colab": {
          "base_uri": "https://localhost:8080/"
        },
        "outputId": "4f61a891-6540-4651-ea5e-c20a4028c431"
      },
      "execution_count": 15,
      "outputs": [
        {
          "output_type": "execute_result",
          "data": {
            "text/plain": [
              "array([10.95, 10.36, 10.63, 10.46, 10.53, 10.28, 10.93, 10.38, 10.37,\n",
              "       10.26])"
            ]
          },
          "metadata": {},
          "execution_count": 15
        }
      ]
    },
    {
      "cell_type": "code",
      "source": [
        "matrix = matrix*2\n",
        "matrix"
      ],
      "metadata": {
        "colab": {
          "base_uri": "https://localhost:8080/"
        },
        "id": "XKMLwxQgQis0",
        "outputId": "5a9bfeea-c7d9-4f18-f01f-b69c99365a49"
      },
      "execution_count": 16,
      "outputs": [
        {
          "output_type": "execute_result",
          "data": {
            "text/plain": [
              "array([[22, 28, 34],\n",
              "       [40, 46, 52],\n",
              "       [58, 64, 70]])"
            ]
          },
          "metadata": {},
          "execution_count": 16
        }
      ]
    },
    {
      "cell_type": "code",
      "source": [
        "vector_new = vector*vector\n",
        "vector_new"
      ],
      "metadata": {
        "colab": {
          "base_uri": "https://localhost:8080/"
        },
        "id": "4qxlbYEfQ1Nf",
        "outputId": "d9427d23-8ece-4e1c-8db2-ce60912dd60f"
      },
      "execution_count": 17,
      "outputs": [
        {
          "output_type": "execute_result",
          "data": {
            "text/plain": [
              "array([119.9025, 107.3296, 112.9969, 109.4116, 110.8809, 105.6784,\n",
              "       119.4649, 107.7444, 107.5369, 105.2676])"
            ]
          },
          "metadata": {},
          "execution_count": 17
        }
      ]
    },
    {
      "cell_type": "markdown",
      "source": [
        "\n",
        "### Завдання 3: Множення матриць\n",
        "1. Задані дві матриці `A` і `B`розмірностями 3x2 та 2х3. Виконайте їхнє множення, щоб отримати матрицю 2x2. Виведіть результуючу матрицю `result_matrix` на екран.\n",
        "\n",
        "2. Заданий вектор `C` розмірністю 2х1. Подумайте спочатку, яку розмірність Ви отрмаєте, коли домножите `result_matrix` на вектор `C` і який результат буде. А потім виконайте множення і виведіть результат на екран.\n",
        "\n",
        "3. Задана матриця `D` розмірністю 2х2. Подумайте спочатку, яку розмірність Ви отрмаєте, коли домножите `result_matrix` на матрицю `D` і який результат буде. А потім виконайте множення і виведіть результат на екран."
      ],
      "metadata": {
        "id": "u6RvWVfhPy-k"
      }
    },
    {
      "cell_type": "code",
      "source": [
        "A = np.array(\n",
        "    [[0.18, 0.53],\n",
        "     [0.75, 0.47],\n",
        "     [0.35, 0.21]])\n",
        "\n",
        "B = np.array(\n",
        "    [[0.17, 0.58, 0.75],\n",
        "     [0.38, 0.11, 0.15]])\n",
        "\n",
        "C = np.array([[0], [1]])\n",
        "\n",
        "D = np.array([[0,1], [1,0]])\n",
        "\n",
        "display(A, B, C, D)"
      ],
      "metadata": {
        "id": "RwXfPzlbSJ44",
        "colab": {
          "base_uri": "https://localhost:8080/",
          "height": 170
        },
        "outputId": "e526201b-3c7e-449b-a095-83e56e6be13c"
      },
      "execution_count": 19,
      "outputs": [
        {
          "output_type": "display_data",
          "data": {
            "text/plain": [
              "array([[0.18, 0.53],\n",
              "       [0.75, 0.47],\n",
              "       [0.35, 0.21]])"
            ]
          },
          "metadata": {}
        },
        {
          "output_type": "display_data",
          "data": {
            "text/plain": [
              "array([[0.17, 0.58, 0.75],\n",
              "       [0.38, 0.11, 0.15]])"
            ]
          },
          "metadata": {}
        },
        {
          "output_type": "display_data",
          "data": {
            "text/plain": [
              "array([[0],\n",
              "       [1]])"
            ]
          },
          "metadata": {}
        },
        {
          "output_type": "display_data",
          "data": {
            "text/plain": [
              "array([[0, 1],\n",
              "       [1, 0]])"
            ]
          },
          "metadata": {}
        }
      ]
    },
    {
      "cell_type": "code",
      "source": [
        "result_matrix = np.dot(B, A)\n",
        "result_matrix"
      ],
      "metadata": {
        "id": "z7-boTbhVKkj",
        "colab": {
          "base_uri": "https://localhost:8080/"
        },
        "outputId": "2670123c-39b4-4e34-ea3a-2c0897f127e9"
      },
      "execution_count": 25,
      "outputs": [
        {
          "output_type": "execute_result",
          "data": {
            "text/plain": [
              "array([[0.7281, 0.5202],\n",
              "       [0.2034, 0.2846]])"
            ]
          },
          "metadata": {},
          "execution_count": 25
        }
      ]
    },
    {
      "cell_type": "code",
      "source": [
        "matrix2 = np.dot(result_matrix, C)\n",
        "matrix2"
      ],
      "metadata": {
        "colab": {
          "base_uri": "https://localhost:8080/"
        },
        "id": "CglkpXWGSEt3",
        "outputId": "7cc5791c-9d52-47d9-c135-3fb23c50af9b"
      },
      "execution_count": 26,
      "outputs": [
        {
          "output_type": "execute_result",
          "data": {
            "text/plain": [
              "array([[0.5202],\n",
              "       [0.2846]])"
            ]
          },
          "metadata": {},
          "execution_count": 26
        }
      ]
    },
    {
      "cell_type": "code",
      "source": [
        "matrix3 = np.dot(result_matrix, D)\n",
        "matrix3"
      ],
      "metadata": {
        "colab": {
          "base_uri": "https://localhost:8080/"
        },
        "id": "R1wwbf93Sd8A",
        "outputId": "decff348-f8c9-4cb0-a508-2eb710f2a085"
      },
      "execution_count": 27,
      "outputs": [
        {
          "output_type": "execute_result",
          "data": {
            "text/plain": [
              "array([[0.5202, 0.7281],\n",
              "       [0.2846, 0.2034]])"
            ]
          },
          "metadata": {},
          "execution_count": 27
        }
      ]
    },
    {
      "cell_type": "markdown",
      "source": [
        "\n",
        "### Завдання 4: Транспонування матриць\n",
        "1. Транспонуйте `result_matrix`.\n",
        "2. Зробіть транспонування вектора `vector` і виведіть форму нової структури. Чи бачите ви зміну?\n",
        "3. Використайте операцію `numpy.expand_dims` над вектором `vector` з аргументом axis=1. Запишіть отриманий результат в змінну `column_vector` і виведіть на екран. Порівняйте з `vector`.\n",
        "4. Зробіть транспонування `column_vector`, виведіть результат на екран разом з розмірностями отриманої структури.\n",
        "\n",
        "\n"
      ],
      "metadata": {
        "id": "wohp0_cxSGpl"
      }
    },
    {
      "cell_type": "code",
      "source": [
        "result_matrix_T = result_matrix.T\n",
        "result_matrix_T"
      ],
      "metadata": {
        "id": "4hFcq1baVLii",
        "colab": {
          "base_uri": "https://localhost:8080/"
        },
        "outputId": "32b54f1c-1f87-4d25-fdde-5cd08fc4ab16"
      },
      "execution_count": 28,
      "outputs": [
        {
          "output_type": "execute_result",
          "data": {
            "text/plain": [
              "array([[0.7281, 0.2034],\n",
              "       [0.5202, 0.2846]])"
            ]
          },
          "metadata": {},
          "execution_count": 28
        }
      ]
    },
    {
      "cell_type": "code",
      "source": [
        "vector_T = vector.T\n",
        "print('Vector: ', vector, 'Розмір: ', vector.shape)\n",
        "print('Vector транспонований: ', vector_T, 'Розмір: ', vector_T.shape)"
      ],
      "metadata": {
        "colab": {
          "base_uri": "https://localhost:8080/"
        },
        "id": "6oPvgX5-V7P1",
        "outputId": "ece06f89-bcc5-4489-eb6b-1b47d1b1dc24"
      },
      "execution_count": 32,
      "outputs": [
        {
          "output_type": "stream",
          "name": "stdout",
          "text": [
            "Vector:  [10.95 10.36 10.63 10.46 10.53 10.28 10.93 10.38 10.37 10.26] Розмір:  (10,)\n",
            "Vector транспонований:  [10.95 10.36 10.63 10.46 10.53 10.28 10.93 10.38 10.37 10.26] Розмір:  (10,)\n"
          ]
        }
      ]
    },
    {
      "cell_type": "markdown",
      "source": [
        "Отже, змін не відбулось"
      ],
      "metadata": {
        "id": "fbPuPhLtWHsn"
      }
    },
    {
      "cell_type": "code",
      "source": [
        "column_vector = np.expand_dims(vector, axis=1)\n",
        "column_vector, column_vector.shape\n"
      ],
      "metadata": {
        "colab": {
          "base_uri": "https://localhost:8080/"
        },
        "id": "4utSwRPuWgJ4",
        "outputId": "b3f0868b-b6de-4855-88f6-5869e8e4472b"
      },
      "execution_count": 37,
      "outputs": [
        {
          "output_type": "execute_result",
          "data": {
            "text/plain": [
              "(array([[10.95],\n",
              "        [10.36],\n",
              "        [10.63],\n",
              "        [10.46],\n",
              "        [10.53],\n",
              "        [10.28],\n",
              "        [10.93],\n",
              "        [10.38],\n",
              "        [10.37],\n",
              "        [10.26]]),\n",
              " (10, 1))"
            ]
          },
          "metadata": {},
          "execution_count": 37
        }
      ]
    },
    {
      "cell_type": "markdown",
      "source": [
        "Vector - одномірний масив, column_vector - двовимірний"
      ],
      "metadata": {
        "id": "B0RlbEjV741t"
      }
    },
    {
      "cell_type": "code",
      "source": [
        "column_vector_T = column_vector.T\n",
        "print('Column Vector транспонований: ', column_vector_T, 'Розмір: ', column_vector_T.shape)"
      ],
      "metadata": {
        "colab": {
          "base_uri": "https://localhost:8080/"
        },
        "id": "BjApGh798C2m",
        "outputId": "8723ca14-487e-44bd-a29b-26aec6b21d0e"
      },
      "execution_count": 40,
      "outputs": [
        {
          "output_type": "stream",
          "name": "stdout",
          "text": [
            "Column Vector транспонований:  [[10.95 10.36 10.63 10.46 10.53 10.28 10.93 10.38 10.37 10.26]] Розмір:  (1, 10)\n"
          ]
        }
      ]
    }
  ]
}